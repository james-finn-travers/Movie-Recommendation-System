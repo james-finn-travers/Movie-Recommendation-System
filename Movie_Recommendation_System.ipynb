{
  "cells": [
    {
      "cell_type": "markdown",
      "metadata": {
        "id": "view-in-github",
        "colab_type": "text"
      },
      "source": [
        "<a href=\"https://colab.research.google.com/github/james-finn-travers/Movie-Recommendation-System/blob/main/Movie_Recommendation_System.ipynb\" target=\"_parent\"><img src=\"https://colab.research.google.com/assets/colab-badge.svg\" alt=\"Open In Colab\"/></a>"
      ]
    },
    {
      "cell_type": "markdown",
      "id": "a35863c8440b49b8",
      "metadata": {
        "id": "a35863c8440b49b8"
      },
      "source": [
        "# Movie Recommendation System\n",
        "James Travers"
      ]
    },
    {
      "cell_type": "markdown",
      "id": "6681633612818603",
      "metadata": {
        "id": "6681633612818603"
      },
      "source": [
        "## Libraries Importing\n",
        "\n",
        "---\n",
        "\n"
      ]
    },
    {
      "cell_type": "code",
      "execution_count": 1,
      "id": "bfb219a77a856fe6",
      "metadata": {
        "id": "bfb219a77a856fe6"
      },
      "outputs": [],
      "source": [
        "# Make sure to install the sklearn library before running this code\n",
        "# You can install it by running: pip install scikit-learn\n",
        "#%pip install scikit-learn\n",
        "import pandas as pd\n",
        "import numpy as np\n",
        "import ipywidgets as widgets\n",
        "from IPython.display import display\n",
        "from sklearn.feature_extraction.text import CountVectorizer\n",
        "from sklearn.metrics.pairwise import cosine_similarity\n",
        "from sklearn.preprocessing import MinMaxScaler\n",
        "from sklearn.neighbors import NearestNeighbors\n",
        "from sklearn.model_selection import train_test_split\n",
        "from sklearn.feature_extraction.text import TfidfVectorizer\n",
        "import numpy as np\n",
        "import pandas as pd\n",
        "import re"
      ]
    },
    {
      "cell_type": "markdown",
      "id": "ab56d59fc68683f7",
      "metadata": {
        "id": "ab56d59fc68683f7"
      },
      "source": [
        "## Load Datasets"
      ]
    },
    {
      "cell_type": "code",
      "execution_count": 2,
      "id": "f0ccee0fe3a02256",
      "metadata": {
        "colab": {
          "base_uri": "https://localhost:8080/"
        },
        "id": "f0ccee0fe3a02256",
        "outputId": "72287c91-1d99-457b-c7a7-650a95607a71"
      },
      "outputs": [
        {
          "output_type": "stream",
          "name": "stdout",
          "text": [
            "--2025-01-16 19:21:09--  https://files.grouplens.org/datasets/movielens/ml-latest.zip\n",
            "Resolving files.grouplens.org (files.grouplens.org)... 128.101.65.152\n",
            "Connecting to files.grouplens.org (files.grouplens.org)|128.101.65.152|:443... connected.\n",
            "HTTP request sent, awaiting response... 200 OK\n",
            "Length: 350896731 (335M) [application/zip]\n",
            "Saving to: ‘ml-latest.zip’\n",
            "\n",
            "ml-latest.zip       100%[===================>] 334.64M  17.8MB/s    in 21s     \n",
            "\n",
            "2025-01-16 19:21:31 (16.3 MB/s) - ‘ml-latest.zip’ saved [350896731/350896731]\n",
            "\n",
            "Archive:  ml-latest.zip\n",
            "   creating: ml-latest/\n",
            "  inflating: ml-latest/tags.csv      \n",
            "  inflating: ml-latest/links.csv     \n",
            "  inflating: ml-latest/README.txt    \n",
            "  inflating: ml-latest/ratings.csv   \n",
            "  inflating: ml-latest/genome-tags.csv  \n",
            "  inflating: ml-latest/genome-scores.csv  \n",
            "  inflating: ml-latest/movies.csv    \n"
          ]
        }
      ],
      "source": [
        "import pandas as pd\n",
        "#https://files.grouplens.org/datasets/movielens/ml-25m/\n",
        "\n",
        "\n",
        "!wget https://files.grouplens.org/datasets/movielens/ml-latest.zip\n",
        "!unzip ml-latest.zip\n",
        "\n",
        "# Updated file paths to load from the ml-latest directory:\n",
        "genome_scores = pd.read_csv('ml-latest/genome-scores.csv')\n",
        "genome_tags = pd.read_csv('ml-latest/genome-tags.csv')\n",
        "movies = pd.read_csv('ml-latest/movies.csv')\n",
        "links = pd.read_csv('ml-latest/links.csv')\n",
        "tags = pd.read_csv('ml-latest/tags.csv')\n",
        "ratings = pd.read_csv('ml-latest/ratings.csv')\n",
        "\n",
        "\n",
        "movies_average_ratings = ratings.groupby('movieId')['rating'].mean().reset_index()\n",
        "movies_average_ratings.rename(columns={'rating': 'average_rating'}, inplace=True)\n",
        "\n",
        "\n",
        "\n",
        "movies = pd.merge(movies, movies_average_ratings, on='movieId', how='left')\n",
        "\n",
        "#imdb.com/title/tt0114885/\n",
        "\n"
      ]
    },
    {
      "cell_type": "markdown",
      "id": "64XH2zkT8ygj",
      "metadata": {
        "id": "64XH2zkT8ygj"
      },
      "source": [
        "## Filter Movie Recommendation List\n",
        "### Filter out Obscure Movies (<500 ratings)"
      ]
    },
    {
      "cell_type": "code",
      "execution_count": 3,
      "id": "YsFH55Un8yI2",
      "metadata": {
        "id": "YsFH55Un8yI2"
      },
      "outputs": [],
      "source": [
        "movies_obscure = ratings.groupby('movieId')['rating'].count().reset_index()\n",
        "movies_obscure = movies_obscure[movies_obscure['rating'] < 500].sort_values(by='rating', ascending=False)\n",
        "obscure_ids = set(movies_obscure['movieId'].values)\n",
        "movies_recommending = movies[~movies['movieId'].isin(movies_obscure['movieId'])]"
      ]
    },
    {
      "cell_type": "markdown",
      "id": "2m509e5Sj1Nr",
      "metadata": {
        "id": "2m509e5Sj1Nr"
      },
      "source": [
        "### Remove Bad Movies for Small Sizes"
      ]
    },
    {
      "cell_type": "code",
      "execution_count": 4,
      "id": "B7NlkGQ1j3I_",
      "metadata": {
        "id": "B7NlkGQ1j3I_"
      },
      "outputs": [],
      "source": [
        "movies_bad = ratings.groupby('movieId')['rating'].mean().reset_index()\n",
        "movies_bad = movies_bad[movies_bad['rating'] < 3].sort_values(by='rating', ascending=False)\n",
        "bad_ids = set(movies_bad['movieId'].values)\n",
        "\n",
        "\n",
        "good_movies = list(movies_recommending[~movies_recommending['movieId'].isin(movies_bad['movieId'])]['movieId'])"
      ]
    },
    {
      "cell_type": "markdown",
      "id": "1buTeZKx9gv8",
      "metadata": {
        "id": "1buTeZKx9gv8"
      },
      "source": [
        "###Clean movie titles to improve ease of search"
      ]
    },
    {
      "cell_type": "code",
      "execution_count": 5,
      "id": "-MCkF7h39osW",
      "metadata": {
        "id": "-MCkF7h39osW"
      },
      "outputs": [],
      "source": [
        "def clean_title(title):\n",
        "    title = re.sub(\"[^a-zA-Z0-9 ]\", \"\", title)\n",
        "    return title\n",
        "movies[\"clean_title\"] = movies[\"title\"].apply(clean_title)"
      ]
    },
    {
      "cell_type": "markdown",
      "id": "jHECPJF7_CCT",
      "metadata": {
        "id": "jHECPJF7_CCT"
      },
      "source": [
        "### Vectorize clean titles for searching"
      ]
    },
    {
      "cell_type": "code",
      "execution_count": 6,
      "id": "MQNGYjbT_EXL",
      "metadata": {
        "id": "MQNGYjbT_EXL"
      },
      "outputs": [],
      "source": [
        "vectorizer = TfidfVectorizer(ngram_range=(1,2))\n",
        "tfidf = vectorizer.fit_transform(movies[\"clean_title\"])"
      ]
    },
    {
      "cell_type": "markdown",
      "id": "a7d78f5272fa240b",
      "metadata": {
        "id": "a7d78f5272fa240b"
      },
      "source": [
        "### Verify Proper Loading"
      ]
    },
    {
      "cell_type": "code",
      "execution_count": 7,
      "id": "88533b4284f8d292",
      "metadata": {
        "colab": {
          "base_uri": "https://localhost:8080/"
        },
        "id": "88533b4284f8d292",
        "outputId": "59849641-5175-4ad5-e38a-2f014c5a3dab"
      },
      "outputs": [
        {
          "output_type": "stream",
          "name": "stdout",
          "text": [
            "Movies:\n",
            "   movieId                               title  \\\n",
            "0        1                    Toy Story (1995)   \n",
            "1        2                      Jumanji (1995)   \n",
            "2        3             Grumpier Old Men (1995)   \n",
            "3        4            Waiting to Exhale (1995)   \n",
            "4        5  Father of the Bride Part II (1995)   \n",
            "\n",
            "                                        genres  average_rating  \\\n",
            "0  Adventure|Animation|Children|Comedy|Fantasy        3.893508   \n",
            "1                   Adventure|Children|Fantasy        3.278179   \n",
            "2                               Comedy|Romance        3.171271   \n",
            "3                         Comedy|Drama|Romance        2.868395   \n",
            "4                                       Comedy        3.076957   \n",
            "\n",
            "                        clean_title  \n",
            "0                    Toy Story 1995  \n",
            "1                      Jumanji 1995  \n",
            "2             Grumpier Old Men 1995  \n",
            "3            Waiting to Exhale 1995  \n",
            "4  Father of the Bride Part II 1995  \n",
            "Ratings:\n",
            "   userId  movieId  rating   timestamp\n",
            "0       1        1     4.0  1225734739\n",
            "1       1      110     4.0  1225865086\n",
            "2       1      158     4.0  1225733503\n",
            "3       1      260     4.5  1225735204\n",
            "4       1      356     5.0  1225735119\n",
            "Movies Obscure:\n",
            "       movieId  rating\n",
            "11372    50954     499\n",
            "9388     27850     499\n",
            "2635      2727     499\n",
            "58623   202155     499\n",
            "240        243     499\n"
          ]
        }
      ],
      "source": [
        "'''\n",
        "print('Genome Scores:')\n",
        "print(genome_scores.head())\n",
        "'''\n",
        "'''\n",
        "print('Genome Tags:')\n",
        "print(genome_tags.head())'''\n",
        "print('Movies:')\n",
        "print(movies.head())\n",
        "'''\n",
        "print('Tags:')\n",
        "print(tags.head())\n",
        "'''\n",
        "print('Ratings:')\n",
        "print(ratings.head())\n",
        "\n",
        "\n",
        "print('Movies Obscure:')\n",
        "print(movies_obscure.head())"
      ]
    },
    {
      "cell_type": "markdown",
      "id": "f1afe2c401ca1c47",
      "metadata": {
        "id": "f1afe2c401ca1c47"
      },
      "source": [
        "### Check for Empty/Duplicate Data"
      ]
    },
    {
      "cell_type": "code",
      "execution_count": 8,
      "id": "3969676d1e6b7388",
      "metadata": {
        "colab": {
          "base_uri": "https://localhost:8080/"
        },
        "id": "3969676d1e6b7388",
        "outputId": "9064d7ad-e47b-4a74-cdfc-b7b87d02fa02"
      },
      "outputs": [
        {
          "output_type": "stream",
          "name": "stdout",
          "text": [
            "Genome Scores:\n",
            "movieId      0\n",
            "tagId        0\n",
            "relevance    0\n",
            "dtype: int64\n",
            "0\n",
            "Movies:\n",
            "movieId              0\n",
            "title                0\n",
            "genres               0\n",
            "average_rating    3298\n",
            "clean_title          0\n",
            "dtype: int64\n",
            "0\n"
          ]
        }
      ],
      "source": [
        "print('Genome Scores:')\n",
        "print(genome_scores.isnull().sum())\n",
        "print(genome_scores.duplicated().sum())\n",
        "'''\n",
        "print('Genome Tags:')\n",
        "print(genome_tags.isnull().sum())\n",
        "print(genome_tags.duplicated().sum())'''\n",
        "print('Movies:')\n",
        "print(movies.isnull().sum())\n",
        "print(movies.duplicated().sum())"
      ]
    },
    {
      "cell_type": "markdown",
      "id": "3dda11f14b6a8d24",
      "metadata": {
        "id": "3dda11f14b6a8d24"
      },
      "source": [
        "## Normalize Ratings to 0-1 Linear Scale"
      ]
    },
    {
      "cell_type": "code",
      "execution_count": 9,
      "id": "c4a5d7e424a932ff",
      "metadata": {
        "colab": {
          "base_uri": "https://localhost:8080/"
        },
        "id": "c4a5d7e424a932ff",
        "outputId": "d3593c6f-37f7-4c58-d6d0-c3be73f44655"
      },
      "outputs": [
        {
          "output_type": "stream",
          "name": "stdout",
          "text": [
            "   userId  movieId  rating   timestamp\n",
            "0       1        1     0.8  1225734739\n",
            "1       1      110     0.8  1225865086\n",
            "2       1      158     0.8  1225733503\n",
            "3       1      260     0.9  1225735204\n",
            "4       1      356     1.0  1225735119\n"
          ]
        }
      ],
      "source": [
        "ratings['rating'] /=5\n",
        "print(ratings.head())"
      ]
    },
    {
      "cell_type": "markdown",
      "id": "dd2e14ef489580e9",
      "metadata": {
        "id": "dd2e14ef489580e9"
      },
      "source": [
        "## Create Relevant Numpy Arrays"
      ]
    },
    {
      "cell_type": "code",
      "execution_count": 10,
      "id": "251c167db356588",
      "metadata": {
        "colab": {
          "base_uri": "https://localhost:8080/"
        },
        "id": "251c167db356588",
        "outputId": "ba453994-e55f-4653-a571-9840e0601435"
      },
      "outputs": [
        {
          "output_type": "stream",
          "name": "stdout",
          "text": [
            "288983  movies, 1128  tags,  330975 users\n",
            "(330976, 1129, 2)\n",
            "(288984, 1129)\n"
          ]
        }
      ],
      "source": [
        "\n",
        "num_movies = movies['movieId'].max()\n",
        "num_tags = genome_scores['tagId'].max()\n",
        "num_users = ratings['userId'].max()\n",
        "\n",
        "print('{}  movies, {}  tags,  {} users'.format(num_movies, num_tags, num_users))\n",
        "\n",
        "\n",
        "# Updated user_movie_ratings to be a list of lists (dynamic lists)\n",
        "#user_movie_ratings = [[0] * (num_movies + 1) for _ in range(num_users + 1)]\n",
        "user_tags = np.zeros((num_users + 1, num_tags + 1, 2))\n",
        "movie_tags = np.zeros((num_movies + 1, num_tags + 1))\n",
        "\n",
        "\n",
        "print(user_tags.shape)\n",
        "print(movie_tags.shape)"
      ]
    },
    {
      "cell_type": "markdown",
      "id": "20f40ac48023a5fb",
      "metadata": {
        "id": "20f40ac48023a5fb"
      },
      "source": [
        "#### Fill Movie-Tags Relevance Matrix"
      ]
    },
    {
      "cell_type": "code",
      "execution_count": 11,
      "id": "779407872751d7df",
      "metadata": {
        "id": "779407872751d7df"
      },
      "outputs": [],
      "source": [
        "movie_tags[genome_scores['movieId'].values, genome_scores['tagId'].values] = genome_scores['relevance'].values"
      ]
    },
    {
      "cell_type": "markdown",
      "source": [
        "Verify proper relevance tags matrix filling"
      ],
      "metadata": {
        "id": "beSlxdQdlHTl"
      },
      "id": "beSlxdQdlHTl"
    },
    {
      "cell_type": "code",
      "source": [
        "print(movie_tags[:5,:5])"
      ],
      "metadata": {
        "colab": {
          "base_uri": "https://localhost:8080/"
        },
        "id": "bonNfxN7lafR",
        "outputId": "083c45d4-4e9c-4b49-bc84-34dead64f26d"
      },
      "id": "bonNfxN7lafR",
      "execution_count": 12,
      "outputs": [
        {
          "output_type": "stream",
          "name": "stdout",
          "text": [
            "[[0.      0.      0.      0.      0.     ]\n",
            " [0.      0.032   0.02225 0.07    0.059  ]\n",
            " [0.      0.0325  0.032   0.0405  0.051  ]\n",
            " [0.      0.0415  0.05525 0.02125 0.07225]\n",
            " [0.      0.0315  0.034   0.028   0.02725]]\n"
          ]
        }
      ]
    },
    {
      "cell_type": "markdown",
      "id": "8f8ae0aef42fc4e0",
      "metadata": {
        "id": "8f8ae0aef42fc4e0"
      },
      "source": [
        "#### Create User Preferences Matrix\n",
        "Note: This kernel takes up over 13 GB of RAM. Make sure you are running this kernel."
      ]
    },
    {
      "cell_type": "code",
      "execution_count": 13,
      "id": "df3215cd68677355",
      "metadata": {
        "id": "df3215cd68677355"
      },
      "outputs": [],
      "source": [
        "# Extract relevant columns\n",
        "user_ids = ratings['userId'].values.astype(int)  # User IDs from ratings\n",
        "movie_ids = ratings['movieId'].values.astype(int)  # Movie IDs from ratings\n",
        "ratings_values = ratings['rating'].values  # Ratings from ratings\n",
        "# Get dimensions of user_tags\n",
        "num_users, num_tags, _ = user_tags.shape\n",
        "\n",
        "# Update `user_tags[:,:,0]`: Weighted ratings for tags\n",
        "for u_id, m_id, r in zip(user_ids, movie_ids, ratings_values):\n",
        "    user_tags[u_id, :, 0] += r * movie_tags[m_id]\n",
        "    user_tags[u_id, :, 1] += movie_tags[m_id]\n",
        "\n",
        "# Compute user preferences\n",
        "users_preferences = user_tags[:, :, 0] / np.where(user_tags[:, :, 1] != 0, user_tags[:, :, 1], 1)\n"
      ]
    },
    {
      "cell_type": "markdown",
      "source": [
        "Verify user-preference matrix is filled"
      ],
      "metadata": {
        "id": "35Wv7AMGkj6i"
      },
      "id": "35Wv7AMGkj6i"
    },
    {
      "cell_type": "code",
      "execution_count": 14,
      "id": "byd5ry176w6n",
      "metadata": {
        "colab": {
          "base_uri": "https://localhost:8080/"
        },
        "id": "byd5ry176w6n",
        "outputId": "9090b24f-bf7d-4804-8cc7-da52de0afef9"
      },
      "outputs": [
        {
          "output_type": "stream",
          "name": "stdout",
          "text": [
            "[[0.         0.         0.         0.         0.        ]\n",
            " [0.         0.83153694 0.79887343 0.7894713  0.78466524]\n",
            " [0.         0.6961728  0.66832028 0.76642915 0.75254237]\n",
            " [0.         0.98610396 0.98635511 0.98379843 0.98237923]\n",
            " [0.         0.87904588 0.86582531 0.91831785 0.86316876]]\n"
          ]
        }
      ],
      "source": [
        "print(users_preferences[:5,:5])"
      ]
    },
    {
      "cell_type": "markdown",
      "id": "e6bc44fb2908a3e6",
      "metadata": {
        "id": "e6bc44fb2908a3e6"
      },
      "source": [
        "## Find Most Similar Movies Dashboard"
      ]
    },
    {
      "cell_type": "markdown",
      "id": "cac0ee4b08fa07d6",
      "metadata": {
        "id": "cac0ee4b08fa07d6"
      },
      "source": [
        "### Recommended Movies Dataframe Class"
      ]
    },
    {
      "cell_type": "markdown",
      "id": "2e2706c58cc91ca6",
      "metadata": {
        "id": "2e2706c58cc91ca6"
      },
      "source": [
        "## User Preferences"
      ]
    },
    {
      "cell_type": "code",
      "execution_count": 15,
      "id": "df2ff04774fb9a45",
      "metadata": {
        "id": "df2ff04774fb9a45"
      },
      "outputs": [],
      "source": [
        "class User:\n",
        "\n",
        "    def __init__(self):\n",
        "        #self.ratings = np.full((num_movies+1,),np.nan,dtype=float)\n",
        "        self.ratings = pd.DataFrame(columns=['movieId','movie','rating','backendRating'])\n",
        "        # Initialize tags_ratings as a 2D array with shape (num_tags + 1, 2)\n",
        "        self.tags_ratings = np.zeros((movie_tags.shape[1], 2))\n",
        "        self.preferences = np.zeros(movie_tags.shape[1]) # Initialize as zeros so we can handle div by zero errors\n",
        "        self.movies_seen = []\n",
        "\n",
        "\n",
        "    def get_num_movies(self):\n",
        "        return len(self.ratings)\n",
        "\n",
        "\n",
        "    def add_rating(self, entry_title, rating):\n",
        "        # find most simlar movie title\n",
        "        clean_title = re.sub(\"[^a-zA-Z0-9 ]\", \"\", entry_title)\n",
        "        query_vec = vectorizer.transform([clean_title])\n",
        "        similarity = cosine_similarity(query_vec, tfidf).flatten()\n",
        "        index = np.argmax(similarity)\n",
        "        movie_id = movies.iloc[index]['movieId']\n",
        "        self.adjust_weightings(movie_id, rating) #adjust the weightings\n",
        "        self.movies_seen.append(movie_id)\n",
        "\n",
        "\n",
        "    def adjust_weightings(self, movie_id, rating):\n",
        "\n",
        "        # Normalize\n",
        "        rating /=5\n",
        "        # Updates tag-based ratings\n",
        "        self.tags_ratings[:, 0] += rating * movie_tags[movie_id, :]\n",
        "        self.tags_ratings[:, 1] += movie_tags[movie_id, :]\n",
        "        #add to dataframe\n",
        "        new_row = {'movieId': movie_id, 'movie': movies.loc[movies['movieId'] == movie_id, 'title'].values[0],\n",
        "                  'rating': rating * 5, 'backendRating': rating}\n",
        "        self.ratings = pd.concat([pd.DataFrame([new_row]), self.ratings], ignore_index=True)\n",
        "\n",
        "        self.preferences = self.tags_ratings[:, 0] / np.where(self.tags_ratings[:, 1] != 0, self.tags_ratings[:, 1], 1) # replace user preference matrix\n",
        "\n",
        "    def get_ratings(self):\n",
        "        return self.ratings #return dataframe\n",
        "\n",
        "    def get_similar_users(self,num_users):\n",
        "         # Assuming this function needs to get preferences of other users so using the global variable users_preferences\n",
        "        indices, distances = self.get_nearest_neighbours(users_preferences, k=num_users, metric='cosine')\n",
        "        return indices[1:]\n",
        "\n",
        "\n",
        "    def get_movie_reccomendations(self):\n",
        "        if self.get_num_movies() == 0:\n",
        "            print(\"No movies have been rated yet.\")\n",
        "            return\n",
        "        print('Note: to increase personalization of recommendations, it is encouraged to input as many movies as possible.')\n",
        "        print(\"Finding movies...\")\n",
        "        #find 25 most similar users\n",
        "        closest_users = self.get_similar_users(25)\n",
        "        #average out user's artings\n",
        "        recommending_movies = ratings.groupby('rating').sum().reset_index()\n",
        "        recommending_movies = ratings.sort_values(by = 'rating', ascending = False)\n",
        "        recommendations_filtered = recommending_movies[recommending_movies['movieId'].isin(good_movies) & ~recommending_movies['movieId'].isin(obscure_ids) & ~recommending_movies['movieId'].isin(self.movies_seen)][:5]\n",
        "        for i in  list(recommendations_filtered['movieId'])[:5]:\n",
        "            print(movies.loc[movies['movieId'] == i, 'title'].iloc[0])\n",
        "\n",
        "        #return recommendation_df\n",
        "\n",
        "\n",
        "    def print_movie_ratings(self):\n",
        "        print(self.ratings[['movie','rating']])\n",
        "\n",
        "\n",
        "\n",
        "    def get_nearest_neighbours(self, data, k, metric):\n",
        "        # Fit k-nearest neighbors model\n",
        "        model = NearestNeighbors(n_neighbors=k, metric=metric)\n",
        "        model.fit(data)\n",
        "        # Get distances and indices of k-nearest neighbors\n",
        "        distances, indices = model.kneighbors(self.preferences.reshape(1, -1))\n",
        "        # Return distances and indices of k-nearest neighbors, excluding the user in question\n",
        "        return indices[0], distances[0]"
      ]
    },
    {
      "cell_type": "markdown",
      "id": "FbAI6V_pF_fX",
      "metadata": {
        "id": "FbAI6V_pF_fX"
      },
      "source": [
        "##Create Interactive Widgets"
      ]
    },
    {
      "cell_type": "code",
      "execution_count": 16,
      "id": "Pyhptxx0GFzy",
      "metadata": {
        "id": "Pyhptxx0GFzy"
      },
      "outputs": [],
      "source": [
        "# Create widgets\n",
        "\n",
        "#takes input for movie\n",
        "movie_input = widgets.Text(\n",
        "    placeholder=\"Enter movie name\",\n",
        "    description=\"Movie:\"\n",
        ")\n",
        "\n",
        "\n",
        "#takes input for when movie was released\n",
        "year_input = widgets.IntText(\n",
        "    placeholder=\"Enter movie name\",\n",
        "    description=\"Year:\",\n",
        "    value = None\n",
        ")\n",
        "\n",
        "#slider for user to decide ratings\n",
        "rating_slider = widgets.FloatSlider(\n",
        "    value=0,\n",
        "    min=0,\n",
        "    max=5,\n",
        "    step=0.1,\n",
        "    description=\"Rating:\",\n",
        "    orientation='horizontal'\n",
        ")\n",
        "\n",
        "#submit button\n",
        "submit_button = widgets.Button(\n",
        "    description=\"Submit Rating\"\n",
        ")\n",
        "\n",
        "#view user's ratings\n",
        "view_ratings_button = widgets.Button(\n",
        "    description=\"View Ratings\"\n",
        ")\n",
        "\n",
        "#give recommendations\n",
        "recommendations_button = widgets.Button(\n",
        "    description=\"What Should I Watch\"\n",
        ")\n",
        "\n",
        "\n",
        "# Organize layout\n",
        "layout = widgets.VBox([\n",
        "    movie_input,\n",
        "    year_input,\n",
        "    rating_slider,\n",
        "    widgets.HBox([submit_button,view_ratings_button, recommendations_button])\n",
        "])\n",
        "\n",
        "# Display the layout\n",
        "#display(layout)\n"
      ]
    },
    {
      "cell_type": "markdown",
      "source": [
        "##Run System"
      ],
      "metadata": {
        "id": "T6BVXhnokEoF"
      },
      "id": "T6BVXhnokEoF"
    },
    {
      "cell_type": "code",
      "source": [
        "user_instance = User()\n",
        "\n",
        "# Define output widget for displaying results\n",
        "output = widgets.Output()\n",
        "\n",
        "# Event handler for submitting a rating\n",
        "def on_submit_rating(change):\n",
        "    with output:\n",
        "        output.clear_output()\n",
        "        if movie_input.value == '':\n",
        "            print(\"Please enter a movie title.\")\n",
        "            return\n",
        "        movie_title = movie_input.value\n",
        "        if year_input.value :\n",
        "            movie_title += ' ' + str(year_input.value)\n",
        "        rating = rating_slider.value\n",
        "        if movie_title != '':\n",
        "            user_instance.add_rating(movie_title, rating)\n",
        "            print(f\"Added rating for movie '{movie_title}' with {rating} stars.\")\n",
        "        else:\n",
        "            print(\"Please enter a movie title.\")\n",
        "\n",
        "# Event handler for viewing ratings\n",
        "def on_view_ratings(change):\n",
        "    with output:\n",
        "        output.clear_output()\n",
        "        ratings_df = user_instance.get_ratings()\n",
        "        if not ratings_df.empty:\n",
        "            print(\"Your Ratings:\")\n",
        "            display(ratings_df[['movie']])\n",
        "        else:\n",
        "            print(\"No ratings have been added yet.\")\n",
        "\n",
        "# Event handler for viewing recommendations\n",
        "def on_view_recommendations(change):\n",
        "    with output:\n",
        "        output.clear_output()\n",
        "        recommendations = user_instance.get_movie_reccomendations()\n",
        "\n",
        "\n",
        "# Attach event handlers to buttons\n",
        "submit_button.on_click(on_submit_rating)\n",
        "view_ratings_button.on_click(on_view_ratings)\n",
        "recommendations_button.on_click(on_view_recommendations)\n",
        "\n",
        "# Display the output widget below the layout\n",
        "\n",
        "layout_with_output = widgets.VBox([layout, output])\n",
        "display(layout_with_output)"
      ],
      "metadata": {
        "colab": {
          "base_uri": "https://localhost:8080/",
          "height": 145,
          "referenced_widgets": [
            "9e5129cc21b544ae8a1a093d6ef0bb24",
            "34a3fc226a844859b22db808cab1e695",
            "875a2e4b0a8c4cd98ea706a41e20cd48",
            "aea8fadfc78d413aa2b00bd0696f4523",
            "2c902a488fbb4fb88ea16801d625ea48",
            "5b60d4ad1ed44a4da7ac64f31725ca99",
            "2a4bbb4cc01b43a783d11fe04ad574f8",
            "8f0c760ecdee44b09c14c8219c0b08d7",
            "0c00b32fff3a4bc3932a617a8421a5f6",
            "e5a6aad6295c401589c1403c1ca585d4",
            "eb180ddfbfc44c5fac23b7fa9a217804",
            "ed9d5532b4ac4d4083ff035c23f44e2c",
            "f110b4e090ad4c1c9eb03b5402168741",
            "55d9febbae6d4ce598d8fd126911c998",
            "e663f4827fcd4e4b99ab45f23d2719a5",
            "efbbf533fd534c8babcfacecd12ac37c",
            "e9eacf06d6f548d1baead30e183f86b5",
            "6fbdef24a7e44f9e99142a5f6e87562b",
            "262b5fc74c6d488a86fb7884c2ed7221",
            "6fd3becbcb214087a58509f921663e81",
            "a91fc28654984ab3bf9ff48180310629",
            "221c682b74e14448b5f0f57a56ec6588",
            "fde468f5bade4a1ebbb3f96f52480127",
            "ad08dce0e1874afa899fe300edba9e4b",
            "d8d931de564147f1b233364b7ffcdf76",
            "7dbbeec0d11949c5b04d3384ddcd4aef"
          ]
        },
        "id": "4Tx_-cnfkE5P",
        "outputId": "e52f531f-53c2-437f-fb5b-1cf274d04f8e"
      },
      "id": "4Tx_-cnfkE5P",
      "execution_count": 17,
      "outputs": [
        {
          "output_type": "display_data",
          "data": {
            "text/plain": [
              "VBox(children=(VBox(children=(Text(value='', description='Movie:', placeholder='Enter movie name'), IntText(va…"
            ],
            "application/vnd.jupyter.widget-view+json": {
              "version_major": 2,
              "version_minor": 0,
              "model_id": "9e5129cc21b544ae8a1a093d6ef0bb24"
            }
          },
          "metadata": {}
        }
      ]
    }
  ],
  "metadata": {
    "accelerator": "GPU",
    "colab": {
      "gpuType": "L4",
      "provenance": [],
      "include_colab_link": true
    },
    "kernelspec": {
      "display_name": "Python 3",
      "name": "python3"
    },
    "language_info": {
      "codemirror_mode": {
        "name": "ipython",
        "version": 2
      },
      "file_extension": ".py",
      "mimetype": "text/x-python",
      "name": "python",
      "nbconvert_exporter": "python",
      "pygments_lexer": "ipython2",
      "version": "2.7.6"
    },
    "widgets": {
      "application/vnd.jupyter.widget-state+json": {
        "9e5129cc21b544ae8a1a093d6ef0bb24": {
          "model_module": "@jupyter-widgets/controls",
          "model_name": "VBoxModel",
          "model_module_version": "1.5.0",
          "state": {
            "_dom_classes": [],
            "_model_module": "@jupyter-widgets/controls",
            "_model_module_version": "1.5.0",
            "_model_name": "VBoxModel",
            "_view_count": null,
            "_view_module": "@jupyter-widgets/controls",
            "_view_module_version": "1.5.0",
            "_view_name": "VBoxView",
            "box_style": "",
            "children": [
              "IPY_MODEL_34a3fc226a844859b22db808cab1e695",
              "IPY_MODEL_875a2e4b0a8c4cd98ea706a41e20cd48"
            ],
            "layout": "IPY_MODEL_aea8fadfc78d413aa2b00bd0696f4523"
          }
        },
        "34a3fc226a844859b22db808cab1e695": {
          "model_module": "@jupyter-widgets/controls",
          "model_name": "VBoxModel",
          "model_module_version": "1.5.0",
          "state": {
            "_dom_classes": [],
            "_model_module": "@jupyter-widgets/controls",
            "_model_module_version": "1.5.0",
            "_model_name": "VBoxModel",
            "_view_count": null,
            "_view_module": "@jupyter-widgets/controls",
            "_view_module_version": "1.5.0",
            "_view_name": "VBoxView",
            "box_style": "",
            "children": [
              "IPY_MODEL_2c902a488fbb4fb88ea16801d625ea48",
              "IPY_MODEL_5b60d4ad1ed44a4da7ac64f31725ca99",
              "IPY_MODEL_2a4bbb4cc01b43a783d11fe04ad574f8",
              "IPY_MODEL_8f0c760ecdee44b09c14c8219c0b08d7"
            ],
            "layout": "IPY_MODEL_0c00b32fff3a4bc3932a617a8421a5f6"
          }
        },
        "875a2e4b0a8c4cd98ea706a41e20cd48": {
          "model_module": "@jupyter-widgets/output",
          "model_name": "OutputModel",
          "model_module_version": "1.0.0",
          "state": {
            "_dom_classes": [],
            "_model_module": "@jupyter-widgets/output",
            "_model_module_version": "1.0.0",
            "_model_name": "OutputModel",
            "_view_count": null,
            "_view_module": "@jupyter-widgets/output",
            "_view_module_version": "1.0.0",
            "_view_name": "OutputView",
            "layout": "IPY_MODEL_7dbbeec0d11949c5b04d3384ddcd4aef",
            "msg_id": "",
            "outputs": []
          }
        },
        "aea8fadfc78d413aa2b00bd0696f4523": {
          "model_module": "@jupyter-widgets/base",
          "model_name": "LayoutModel",
          "model_module_version": "1.2.0",
          "state": {
            "_model_module": "@jupyter-widgets/base",
            "_model_module_version": "1.2.0",
            "_model_name": "LayoutModel",
            "_view_count": null,
            "_view_module": "@jupyter-widgets/base",
            "_view_module_version": "1.2.0",
            "_view_name": "LayoutView",
            "align_content": null,
            "align_items": null,
            "align_self": null,
            "border": null,
            "bottom": null,
            "display": null,
            "flex": null,
            "flex_flow": null,
            "grid_area": null,
            "grid_auto_columns": null,
            "grid_auto_flow": null,
            "grid_auto_rows": null,
            "grid_column": null,
            "grid_gap": null,
            "grid_row": null,
            "grid_template_areas": null,
            "grid_template_columns": null,
            "grid_template_rows": null,
            "height": null,
            "justify_content": null,
            "justify_items": null,
            "left": null,
            "margin": null,
            "max_height": null,
            "max_width": null,
            "min_height": null,
            "min_width": null,
            "object_fit": null,
            "object_position": null,
            "order": null,
            "overflow": null,
            "overflow_x": null,
            "overflow_y": null,
            "padding": null,
            "right": null,
            "top": null,
            "visibility": null,
            "width": null
          }
        },
        "2c902a488fbb4fb88ea16801d625ea48": {
          "model_module": "@jupyter-widgets/controls",
          "model_name": "TextModel",
          "model_module_version": "1.5.0",
          "state": {
            "_dom_classes": [],
            "_model_module": "@jupyter-widgets/controls",
            "_model_module_version": "1.5.0",
            "_model_name": "TextModel",
            "_view_count": null,
            "_view_module": "@jupyter-widgets/controls",
            "_view_module_version": "1.5.0",
            "_view_name": "TextView",
            "continuous_update": true,
            "description": "Movie:",
            "description_tooltip": null,
            "disabled": false,
            "layout": "IPY_MODEL_e5a6aad6295c401589c1403c1ca585d4",
            "placeholder": "Enter movie name",
            "style": "IPY_MODEL_eb180ddfbfc44c5fac23b7fa9a217804",
            "value": ""
          }
        },
        "5b60d4ad1ed44a4da7ac64f31725ca99": {
          "model_module": "@jupyter-widgets/controls",
          "model_name": "IntTextModel",
          "model_module_version": "1.5.0",
          "state": {
            "_dom_classes": [],
            "_model_module": "@jupyter-widgets/controls",
            "_model_module_version": "1.5.0",
            "_model_name": "IntTextModel",
            "_view_count": null,
            "_view_module": "@jupyter-widgets/controls",
            "_view_module_version": "1.5.0",
            "_view_name": "IntTextView",
            "continuous_update": false,
            "description": "Year:",
            "description_tooltip": null,
            "disabled": false,
            "layout": "IPY_MODEL_ed9d5532b4ac4d4083ff035c23f44e2c",
            "step": 1,
            "style": "IPY_MODEL_f110b4e090ad4c1c9eb03b5402168741",
            "value": 0
          }
        },
        "2a4bbb4cc01b43a783d11fe04ad574f8": {
          "model_module": "@jupyter-widgets/controls",
          "model_name": "FloatSliderModel",
          "model_module_version": "1.5.0",
          "state": {
            "_dom_classes": [],
            "_model_module": "@jupyter-widgets/controls",
            "_model_module_version": "1.5.0",
            "_model_name": "FloatSliderModel",
            "_view_count": null,
            "_view_module": "@jupyter-widgets/controls",
            "_view_module_version": "1.5.0",
            "_view_name": "FloatSliderView",
            "continuous_update": true,
            "description": "Rating:",
            "description_tooltip": null,
            "disabled": false,
            "layout": "IPY_MODEL_55d9febbae6d4ce598d8fd126911c998",
            "max": 5,
            "min": 0,
            "orientation": "horizontal",
            "readout": true,
            "readout_format": ".2f",
            "step": 0.1,
            "style": "IPY_MODEL_e663f4827fcd4e4b99ab45f23d2719a5",
            "value": 0
          }
        },
        "8f0c760ecdee44b09c14c8219c0b08d7": {
          "model_module": "@jupyter-widgets/controls",
          "model_name": "HBoxModel",
          "model_module_version": "1.5.0",
          "state": {
            "_dom_classes": [],
            "_model_module": "@jupyter-widgets/controls",
            "_model_module_version": "1.5.0",
            "_model_name": "HBoxModel",
            "_view_count": null,
            "_view_module": "@jupyter-widgets/controls",
            "_view_module_version": "1.5.0",
            "_view_name": "HBoxView",
            "box_style": "",
            "children": [
              "IPY_MODEL_efbbf533fd534c8babcfacecd12ac37c",
              "IPY_MODEL_e9eacf06d6f548d1baead30e183f86b5",
              "IPY_MODEL_6fbdef24a7e44f9e99142a5f6e87562b"
            ],
            "layout": "IPY_MODEL_262b5fc74c6d488a86fb7884c2ed7221"
          }
        },
        "0c00b32fff3a4bc3932a617a8421a5f6": {
          "model_module": "@jupyter-widgets/base",
          "model_name": "LayoutModel",
          "model_module_version": "1.2.0",
          "state": {
            "_model_module": "@jupyter-widgets/base",
            "_model_module_version": "1.2.0",
            "_model_name": "LayoutModel",
            "_view_count": null,
            "_view_module": "@jupyter-widgets/base",
            "_view_module_version": "1.2.0",
            "_view_name": "LayoutView",
            "align_content": null,
            "align_items": null,
            "align_self": null,
            "border": null,
            "bottom": null,
            "display": null,
            "flex": null,
            "flex_flow": null,
            "grid_area": null,
            "grid_auto_columns": null,
            "grid_auto_flow": null,
            "grid_auto_rows": null,
            "grid_column": null,
            "grid_gap": null,
            "grid_row": null,
            "grid_template_areas": null,
            "grid_template_columns": null,
            "grid_template_rows": null,
            "height": null,
            "justify_content": null,
            "justify_items": null,
            "left": null,
            "margin": null,
            "max_height": null,
            "max_width": null,
            "min_height": null,
            "min_width": null,
            "object_fit": null,
            "object_position": null,
            "order": null,
            "overflow": null,
            "overflow_x": null,
            "overflow_y": null,
            "padding": null,
            "right": null,
            "top": null,
            "visibility": null,
            "width": null
          }
        },
        "e5a6aad6295c401589c1403c1ca585d4": {
          "model_module": "@jupyter-widgets/base",
          "model_name": "LayoutModel",
          "model_module_version": "1.2.0",
          "state": {
            "_model_module": "@jupyter-widgets/base",
            "_model_module_version": "1.2.0",
            "_model_name": "LayoutModel",
            "_view_count": null,
            "_view_module": "@jupyter-widgets/base",
            "_view_module_version": "1.2.0",
            "_view_name": "LayoutView",
            "align_content": null,
            "align_items": null,
            "align_self": null,
            "border": null,
            "bottom": null,
            "display": null,
            "flex": null,
            "flex_flow": null,
            "grid_area": null,
            "grid_auto_columns": null,
            "grid_auto_flow": null,
            "grid_auto_rows": null,
            "grid_column": null,
            "grid_gap": null,
            "grid_row": null,
            "grid_template_areas": null,
            "grid_template_columns": null,
            "grid_template_rows": null,
            "height": null,
            "justify_content": null,
            "justify_items": null,
            "left": null,
            "margin": null,
            "max_height": null,
            "max_width": null,
            "min_height": null,
            "min_width": null,
            "object_fit": null,
            "object_position": null,
            "order": null,
            "overflow": null,
            "overflow_x": null,
            "overflow_y": null,
            "padding": null,
            "right": null,
            "top": null,
            "visibility": null,
            "width": null
          }
        },
        "eb180ddfbfc44c5fac23b7fa9a217804": {
          "model_module": "@jupyter-widgets/controls",
          "model_name": "DescriptionStyleModel",
          "model_module_version": "1.5.0",
          "state": {
            "_model_module": "@jupyter-widgets/controls",
            "_model_module_version": "1.5.0",
            "_model_name": "DescriptionStyleModel",
            "_view_count": null,
            "_view_module": "@jupyter-widgets/base",
            "_view_module_version": "1.2.0",
            "_view_name": "StyleView",
            "description_width": ""
          }
        },
        "ed9d5532b4ac4d4083ff035c23f44e2c": {
          "model_module": "@jupyter-widgets/base",
          "model_name": "LayoutModel",
          "model_module_version": "1.2.0",
          "state": {
            "_model_module": "@jupyter-widgets/base",
            "_model_module_version": "1.2.0",
            "_model_name": "LayoutModel",
            "_view_count": null,
            "_view_module": "@jupyter-widgets/base",
            "_view_module_version": "1.2.0",
            "_view_name": "LayoutView",
            "align_content": null,
            "align_items": null,
            "align_self": null,
            "border": null,
            "bottom": null,
            "display": null,
            "flex": null,
            "flex_flow": null,
            "grid_area": null,
            "grid_auto_columns": null,
            "grid_auto_flow": null,
            "grid_auto_rows": null,
            "grid_column": null,
            "grid_gap": null,
            "grid_row": null,
            "grid_template_areas": null,
            "grid_template_columns": null,
            "grid_template_rows": null,
            "height": null,
            "justify_content": null,
            "justify_items": null,
            "left": null,
            "margin": null,
            "max_height": null,
            "max_width": null,
            "min_height": null,
            "min_width": null,
            "object_fit": null,
            "object_position": null,
            "order": null,
            "overflow": null,
            "overflow_x": null,
            "overflow_y": null,
            "padding": null,
            "right": null,
            "top": null,
            "visibility": null,
            "width": null
          }
        },
        "f110b4e090ad4c1c9eb03b5402168741": {
          "model_module": "@jupyter-widgets/controls",
          "model_name": "DescriptionStyleModel",
          "model_module_version": "1.5.0",
          "state": {
            "_model_module": "@jupyter-widgets/controls",
            "_model_module_version": "1.5.0",
            "_model_name": "DescriptionStyleModel",
            "_view_count": null,
            "_view_module": "@jupyter-widgets/base",
            "_view_module_version": "1.2.0",
            "_view_name": "StyleView",
            "description_width": ""
          }
        },
        "55d9febbae6d4ce598d8fd126911c998": {
          "model_module": "@jupyter-widgets/base",
          "model_name": "LayoutModel",
          "model_module_version": "1.2.0",
          "state": {
            "_model_module": "@jupyter-widgets/base",
            "_model_module_version": "1.2.0",
            "_model_name": "LayoutModel",
            "_view_count": null,
            "_view_module": "@jupyter-widgets/base",
            "_view_module_version": "1.2.0",
            "_view_name": "LayoutView",
            "align_content": null,
            "align_items": null,
            "align_self": null,
            "border": null,
            "bottom": null,
            "display": null,
            "flex": null,
            "flex_flow": null,
            "grid_area": null,
            "grid_auto_columns": null,
            "grid_auto_flow": null,
            "grid_auto_rows": null,
            "grid_column": null,
            "grid_gap": null,
            "grid_row": null,
            "grid_template_areas": null,
            "grid_template_columns": null,
            "grid_template_rows": null,
            "height": null,
            "justify_content": null,
            "justify_items": null,
            "left": null,
            "margin": null,
            "max_height": null,
            "max_width": null,
            "min_height": null,
            "min_width": null,
            "object_fit": null,
            "object_position": null,
            "order": null,
            "overflow": null,
            "overflow_x": null,
            "overflow_y": null,
            "padding": null,
            "right": null,
            "top": null,
            "visibility": null,
            "width": null
          }
        },
        "e663f4827fcd4e4b99ab45f23d2719a5": {
          "model_module": "@jupyter-widgets/controls",
          "model_name": "SliderStyleModel",
          "model_module_version": "1.5.0",
          "state": {
            "_model_module": "@jupyter-widgets/controls",
            "_model_module_version": "1.5.0",
            "_model_name": "SliderStyleModel",
            "_view_count": null,
            "_view_module": "@jupyter-widgets/base",
            "_view_module_version": "1.2.0",
            "_view_name": "StyleView",
            "description_width": "",
            "handle_color": null
          }
        },
        "efbbf533fd534c8babcfacecd12ac37c": {
          "model_module": "@jupyter-widgets/controls",
          "model_name": "ButtonModel",
          "model_module_version": "1.5.0",
          "state": {
            "_dom_classes": [],
            "_model_module": "@jupyter-widgets/controls",
            "_model_module_version": "1.5.0",
            "_model_name": "ButtonModel",
            "_view_count": null,
            "_view_module": "@jupyter-widgets/controls",
            "_view_module_version": "1.5.0",
            "_view_name": "ButtonView",
            "button_style": "",
            "description": "Submit Rating",
            "disabled": false,
            "icon": "",
            "layout": "IPY_MODEL_6fd3becbcb214087a58509f921663e81",
            "style": "IPY_MODEL_a91fc28654984ab3bf9ff48180310629",
            "tooltip": ""
          }
        },
        "e9eacf06d6f548d1baead30e183f86b5": {
          "model_module": "@jupyter-widgets/controls",
          "model_name": "ButtonModel",
          "model_module_version": "1.5.0",
          "state": {
            "_dom_classes": [],
            "_model_module": "@jupyter-widgets/controls",
            "_model_module_version": "1.5.0",
            "_model_name": "ButtonModel",
            "_view_count": null,
            "_view_module": "@jupyter-widgets/controls",
            "_view_module_version": "1.5.0",
            "_view_name": "ButtonView",
            "button_style": "",
            "description": "View Ratings",
            "disabled": false,
            "icon": "",
            "layout": "IPY_MODEL_221c682b74e14448b5f0f57a56ec6588",
            "style": "IPY_MODEL_fde468f5bade4a1ebbb3f96f52480127",
            "tooltip": ""
          }
        },
        "6fbdef24a7e44f9e99142a5f6e87562b": {
          "model_module": "@jupyter-widgets/controls",
          "model_name": "ButtonModel",
          "model_module_version": "1.5.0",
          "state": {
            "_dom_classes": [],
            "_model_module": "@jupyter-widgets/controls",
            "_model_module_version": "1.5.0",
            "_model_name": "ButtonModel",
            "_view_count": null,
            "_view_module": "@jupyter-widgets/controls",
            "_view_module_version": "1.5.0",
            "_view_name": "ButtonView",
            "button_style": "",
            "description": "What Should I Watch",
            "disabled": false,
            "icon": "",
            "layout": "IPY_MODEL_ad08dce0e1874afa899fe300edba9e4b",
            "style": "IPY_MODEL_d8d931de564147f1b233364b7ffcdf76",
            "tooltip": ""
          }
        },
        "262b5fc74c6d488a86fb7884c2ed7221": {
          "model_module": "@jupyter-widgets/base",
          "model_name": "LayoutModel",
          "model_module_version": "1.2.0",
          "state": {
            "_model_module": "@jupyter-widgets/base",
            "_model_module_version": "1.2.0",
            "_model_name": "LayoutModel",
            "_view_count": null,
            "_view_module": "@jupyter-widgets/base",
            "_view_module_version": "1.2.0",
            "_view_name": "LayoutView",
            "align_content": null,
            "align_items": null,
            "align_self": null,
            "border": null,
            "bottom": null,
            "display": null,
            "flex": null,
            "flex_flow": null,
            "grid_area": null,
            "grid_auto_columns": null,
            "grid_auto_flow": null,
            "grid_auto_rows": null,
            "grid_column": null,
            "grid_gap": null,
            "grid_row": null,
            "grid_template_areas": null,
            "grid_template_columns": null,
            "grid_template_rows": null,
            "height": null,
            "justify_content": null,
            "justify_items": null,
            "left": null,
            "margin": null,
            "max_height": null,
            "max_width": null,
            "min_height": null,
            "min_width": null,
            "object_fit": null,
            "object_position": null,
            "order": null,
            "overflow": null,
            "overflow_x": null,
            "overflow_y": null,
            "padding": null,
            "right": null,
            "top": null,
            "visibility": null,
            "width": null
          }
        },
        "6fd3becbcb214087a58509f921663e81": {
          "model_module": "@jupyter-widgets/base",
          "model_name": "LayoutModel",
          "model_module_version": "1.2.0",
          "state": {
            "_model_module": "@jupyter-widgets/base",
            "_model_module_version": "1.2.0",
            "_model_name": "LayoutModel",
            "_view_count": null,
            "_view_module": "@jupyter-widgets/base",
            "_view_module_version": "1.2.0",
            "_view_name": "LayoutView",
            "align_content": null,
            "align_items": null,
            "align_self": null,
            "border": null,
            "bottom": null,
            "display": null,
            "flex": null,
            "flex_flow": null,
            "grid_area": null,
            "grid_auto_columns": null,
            "grid_auto_flow": null,
            "grid_auto_rows": null,
            "grid_column": null,
            "grid_gap": null,
            "grid_row": null,
            "grid_template_areas": null,
            "grid_template_columns": null,
            "grid_template_rows": null,
            "height": null,
            "justify_content": null,
            "justify_items": null,
            "left": null,
            "margin": null,
            "max_height": null,
            "max_width": null,
            "min_height": null,
            "min_width": null,
            "object_fit": null,
            "object_position": null,
            "order": null,
            "overflow": null,
            "overflow_x": null,
            "overflow_y": null,
            "padding": null,
            "right": null,
            "top": null,
            "visibility": null,
            "width": null
          }
        },
        "a91fc28654984ab3bf9ff48180310629": {
          "model_module": "@jupyter-widgets/controls",
          "model_name": "ButtonStyleModel",
          "model_module_version": "1.5.0",
          "state": {
            "_model_module": "@jupyter-widgets/controls",
            "_model_module_version": "1.5.0",
            "_model_name": "ButtonStyleModel",
            "_view_count": null,
            "_view_module": "@jupyter-widgets/base",
            "_view_module_version": "1.2.0",
            "_view_name": "StyleView",
            "button_color": null,
            "font_weight": ""
          }
        },
        "221c682b74e14448b5f0f57a56ec6588": {
          "model_module": "@jupyter-widgets/base",
          "model_name": "LayoutModel",
          "model_module_version": "1.2.0",
          "state": {
            "_model_module": "@jupyter-widgets/base",
            "_model_module_version": "1.2.0",
            "_model_name": "LayoutModel",
            "_view_count": null,
            "_view_module": "@jupyter-widgets/base",
            "_view_module_version": "1.2.0",
            "_view_name": "LayoutView",
            "align_content": null,
            "align_items": null,
            "align_self": null,
            "border": null,
            "bottom": null,
            "display": null,
            "flex": null,
            "flex_flow": null,
            "grid_area": null,
            "grid_auto_columns": null,
            "grid_auto_flow": null,
            "grid_auto_rows": null,
            "grid_column": null,
            "grid_gap": null,
            "grid_row": null,
            "grid_template_areas": null,
            "grid_template_columns": null,
            "grid_template_rows": null,
            "height": null,
            "justify_content": null,
            "justify_items": null,
            "left": null,
            "margin": null,
            "max_height": null,
            "max_width": null,
            "min_height": null,
            "min_width": null,
            "object_fit": null,
            "object_position": null,
            "order": null,
            "overflow": null,
            "overflow_x": null,
            "overflow_y": null,
            "padding": null,
            "right": null,
            "top": null,
            "visibility": null,
            "width": null
          }
        },
        "fde468f5bade4a1ebbb3f96f52480127": {
          "model_module": "@jupyter-widgets/controls",
          "model_name": "ButtonStyleModel",
          "model_module_version": "1.5.0",
          "state": {
            "_model_module": "@jupyter-widgets/controls",
            "_model_module_version": "1.5.0",
            "_model_name": "ButtonStyleModel",
            "_view_count": null,
            "_view_module": "@jupyter-widgets/base",
            "_view_module_version": "1.2.0",
            "_view_name": "StyleView",
            "button_color": null,
            "font_weight": ""
          }
        },
        "ad08dce0e1874afa899fe300edba9e4b": {
          "model_module": "@jupyter-widgets/base",
          "model_name": "LayoutModel",
          "model_module_version": "1.2.0",
          "state": {
            "_model_module": "@jupyter-widgets/base",
            "_model_module_version": "1.2.0",
            "_model_name": "LayoutModel",
            "_view_count": null,
            "_view_module": "@jupyter-widgets/base",
            "_view_module_version": "1.2.0",
            "_view_name": "LayoutView",
            "align_content": null,
            "align_items": null,
            "align_self": null,
            "border": null,
            "bottom": null,
            "display": null,
            "flex": null,
            "flex_flow": null,
            "grid_area": null,
            "grid_auto_columns": null,
            "grid_auto_flow": null,
            "grid_auto_rows": null,
            "grid_column": null,
            "grid_gap": null,
            "grid_row": null,
            "grid_template_areas": null,
            "grid_template_columns": null,
            "grid_template_rows": null,
            "height": null,
            "justify_content": null,
            "justify_items": null,
            "left": null,
            "margin": null,
            "max_height": null,
            "max_width": null,
            "min_height": null,
            "min_width": null,
            "object_fit": null,
            "object_position": null,
            "order": null,
            "overflow": null,
            "overflow_x": null,
            "overflow_y": null,
            "padding": null,
            "right": null,
            "top": null,
            "visibility": null,
            "width": null
          }
        },
        "d8d931de564147f1b233364b7ffcdf76": {
          "model_module": "@jupyter-widgets/controls",
          "model_name": "ButtonStyleModel",
          "model_module_version": "1.5.0",
          "state": {
            "_model_module": "@jupyter-widgets/controls",
            "_model_module_version": "1.5.0",
            "_model_name": "ButtonStyleModel",
            "_view_count": null,
            "_view_module": "@jupyter-widgets/base",
            "_view_module_version": "1.2.0",
            "_view_name": "StyleView",
            "button_color": null,
            "font_weight": ""
          }
        },
        "7dbbeec0d11949c5b04d3384ddcd4aef": {
          "model_module": "@jupyter-widgets/base",
          "model_name": "LayoutModel",
          "model_module_version": "1.2.0",
          "state": {
            "_model_module": "@jupyter-widgets/base",
            "_model_module_version": "1.2.0",
            "_model_name": "LayoutModel",
            "_view_count": null,
            "_view_module": "@jupyter-widgets/base",
            "_view_module_version": "1.2.0",
            "_view_name": "LayoutView",
            "align_content": null,
            "align_items": null,
            "align_self": null,
            "border": null,
            "bottom": null,
            "display": null,
            "flex": null,
            "flex_flow": null,
            "grid_area": null,
            "grid_auto_columns": null,
            "grid_auto_flow": null,
            "grid_auto_rows": null,
            "grid_column": null,
            "grid_gap": null,
            "grid_row": null,
            "grid_template_areas": null,
            "grid_template_columns": null,
            "grid_template_rows": null,
            "height": null,
            "justify_content": null,
            "justify_items": null,
            "left": null,
            "margin": null,
            "max_height": null,
            "max_width": null,
            "min_height": null,
            "min_width": null,
            "object_fit": null,
            "object_position": null,
            "order": null,
            "overflow": null,
            "overflow_x": null,
            "overflow_y": null,
            "padding": null,
            "right": null,
            "top": null,
            "visibility": null,
            "width": null
          }
        }
      }
    }
  },
  "nbformat": 4,
  "nbformat_minor": 5
}